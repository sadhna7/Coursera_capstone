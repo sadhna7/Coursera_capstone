{
 "cells": [
  {
   "cell_type": "markdown",
   "metadata": {},
   "source": [
    "# BATTLE OF NEIGHBORHOOD (week 4) "
   ]
  },
  {
   "cell_type": "markdown",
   "metadata": {},
   "source": [
    "## <font color=green>_The Delhi Perspective_</font>"
   ]
  },
  {
   "cell_type": "code",
   "execution_count": 1,
   "metadata": {},
   "outputs": [
    {
     "data": {
      "text/html": [
       "<img src =\"img/python1.jpg\",width=500,height=600>\n"
      ],
      "text/plain": [
       "<IPython.core.display.HTML object>"
      ]
     },
     "metadata": {},
     "output_type": "display_data"
    }
   ],
   "source": [
    "%%html\n",
    "<img src =\"img/python1.jpg\",width=500,height=600>"
   ]
  },
  {
   "cell_type": "markdown",
   "metadata": {},
   "source": [
    "# 1. INTRODUCTION"
   ]
  },
  {
   "cell_type": "markdown",
   "metadata": {},
   "source": [
    "Delhi is the capital city of India and is known as the \"Heart Of The Nation\". It has a population of 11 million and metropolitan population of 16.3 million. This makes city the second most populous city in India.It covers an area of 573 square miles (1,480 km2) And Speaking about the variety of cuisines, One can easily get all variety of food items which will definitely follow their taste; all you have to do is to find out the right place. From a historic restaurant to a modernly outlined place serving the best food items are easy to find in India’s Capital Territory.\n",
    "\n",
    "But what if, We want to open our own Restaurant in Delhi? "
   ]
  },
  {
   "cell_type": "markdown",
   "metadata": {},
   "source": [
    "### 1.1 Business Problem and Discussion of Background\n",
    "With such huge population and people from all of the country of different culture, one find its difficult to decide as where to open a restaurant.\n",
    "\n",
    "In the Delhi Perspective, we will try to find out some of the issues listed below:\n",
    "-  Which areas are more populated.\n",
    "-  Comparing the different areas of delhi.\n",
    "-  The most Suitable location of having Restaurant.\n",
    "-  The area which has the maximum number of restaurants."
   ]
  },
  {
   "cell_type": "markdown",
   "metadata": {},
   "source": [
    "### 1.2 Beneficials\n",
    "- All the Businessmen who are ready to invest their money in opening restaurant.\n",
    "- All the general public and the tourists who wants to change their taste and try out different cuisines.\n",
    "- The jobseekers who can easily find out the work in the busiest areas of Delhi.\n",
    "- The Marketing people who can have their big impact on public using the information after comparing cities."
   ]
  }
 ],
 "metadata": {
  "kernelspec": {
   "display_name": "Python 3",
   "language": "python",
   "name": "python3"
  },
  "language_info": {
   "codemirror_mode": {
    "name": "ipython",
    "version": 3
   },
   "file_extension": ".py",
   "mimetype": "text/x-python",
   "name": "python",
   "nbconvert_exporter": "python",
   "pygments_lexer": "ipython3",
   "version": "3.7.3"
  }
 },
 "nbformat": 4,
 "nbformat_minor": 2
}
